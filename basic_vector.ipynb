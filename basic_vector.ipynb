{
 "cells": [
  {
   "cell_type": "markdown",
   "id": "8c66ce5b",
   "metadata": {},
   "source": [
    " Write a function that takes two 2D vectors, adds them, and returns the result as a new vector."
   ]
  },
  {
   "cell_type": "code",
   "execution_count": 1,
   "id": "b2df2c15",
   "metadata": {},
   "outputs": [
    {
     "data": {
      "text/plain": [
       "[1, 6]"
      ]
     },
     "execution_count": 1,
     "metadata": {},
     "output_type": "execute_result"
    }
   ],
   "source": [
    "def vector_add(a,b):\n",
    "    return [a[0] + b[0], a[1] + b[1] ]\n",
    "\n",
    "#example usage\n",
    "\n",
    "vector_add([3,5], [-2,1])"
   ]
  },
  {
   "cell_type": "markdown",
   "id": "f60e37d7",
   "metadata": {},
   "source": [
    " Given a vector and a scalar, write a function to output the scaled vector."
   ]
  },
  {
   "cell_type": "code",
   "execution_count": null,
   "id": "d08e3354",
   "metadata": {},
   "outputs": [],
   "source": []
  }
 ],
 "metadata": {
  "kernelspec": {
   "display_name": ".venv (3.13.5)",
   "language": "python",
   "name": "python3"
  },
  "language_info": {
   "codemirror_mode": {
    "name": "ipython",
    "version": 3
   },
   "file_extension": ".py",
   "mimetype": "text/x-python",
   "name": "python",
   "nbconvert_exporter": "python",
   "pygments_lexer": "ipython3",
   "version": "3.13.5"
  }
 },
 "nbformat": 4,
 "nbformat_minor": 5
}
