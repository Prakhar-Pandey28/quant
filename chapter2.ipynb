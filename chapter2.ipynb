{
 "cells": [
  {
   "cell_type": "code",
   "execution_count": null,
   "id": "5a0db686",
   "metadata": {},
   "outputs": [
    {
     "name": "stdout",
     "output_type": "stream",
     "text": [
      "0.062000000000000006\n"
     ]
    }
   ],
   "source": [
    "#Linear Combination"
   ]
  },
  {
   "cell_type": "code",
   "execution_count": 3,
   "id": "8205f06f",
   "metadata": {},
   "outputs": [
    {
     "name": "stdout",
     "output_type": "stream",
     "text": [
      "0.062000000000000006\n"
     ]
    }
   ],
   "source": [
    "import numpy as np\n",
    "returns = np.array([0.07, 0.05])\n",
    "weights = np.array([0.6, 0.4])\n",
    "portfolio_return = np.dot(weights, returns)\n",
    "print(portfolio_return)"
   ]
  },
  {
   "cell_type": "markdown",
   "id": "606af568",
   "metadata": {},
   "source": [
    "Span\n",
    "\n",
    "    ML Use: Features of a dataset \"span\" a space; can you reconstruct all outcomes with current features?\n"
   ]
  },
  {
   "cell_type": "code",
   "execution_count": 4,
   "id": "1c1494d3",
   "metadata": {},
   "outputs": [
    {
     "name": "stdout",
     "output_type": "stream",
     "text": [
      "[1.66666667 0.66666667]\n"
     ]
    }
   ],
   "source": [
    "v1 = np.array([1,2])\n",
    "v2 = np.array([2,1])\n",
    "# Is vector v3 in the span?\n",
    "v3 = np.array([3,4])\n",
    "# Solve: a*v1 + b*v2 = v3\n",
    "\n",
    "coeffs = np.linalg.lstsq(np.column_stack([v1,v2]), v3, rcond=None)[0]\n",
    "\n",
    "print(coeffs) # Gives (a, b) coefficients if in span\n"
   ]
  },
  {
   "cell_type": "markdown",
   "id": "16511a1b",
   "metadata": {},
   "source": [
    "Basis Vectors\n",
    "\n",
    "    Trading Use: Factor models use basis vectors to represent independent market forces.\n",
    "\n"
   ]
  },
  {
   "cell_type": "code",
   "execution_count": 6,
   "id": "8f0defbc",
   "metadata": {},
   "outputs": [
    {
     "name": "stdout",
     "output_type": "stream",
     "text": [
      "2\n"
     ]
    }
   ],
   "source": [
    "# Check if v1, v2 form a basis (are independent)\n",
    "v1 = np.array([1, 0])\n",
    "v2 = np.array([1, 1])\n",
    "print(np.linalg.matrix_rank(np.column_stack([v1, v2])))  # 2 means basis for 2D\n"
   ]
  },
  {
   "cell_type": "markdown",
   "id": "ca137dcb",
   "metadata": {},
   "source": [
    "Linear Dependence/Independence\n",
    "\n",
    "    Risk Use: You need independent risk factors; redundant ones add no new info.\n"
   ]
  },
  {
   "cell_type": "code",
   "execution_count": 9,
   "id": "eda04456",
   "metadata": {},
   "outputs": [
    {
     "name": "stdout",
     "output_type": "stream",
     "text": [
      "1\n"
     ]
    }
   ],
   "source": [
    "v1 = np.array([1,2])\n",
    "v2 = np.array([2,4])\n",
    "print(np.linalg.matrix_rank(np.column_stack([v1, v2]))) # Rank 1: not independent"
   ]
  },
  {
   "cell_type": "markdown",
   "id": "60e55348",
   "metadata": {},
   "source": [
    "Coordinate System Relativity\n",
    "\n",
    "    Trading Use: Changing the reference \"basis\" re-expresses prices, signals, or strategies.\n"
   ]
  },
  {
   "cell_type": "code",
   "execution_count": 10,
   "id": "338dda01",
   "metadata": {},
   "outputs": [
    {
     "name": "stdout",
     "output_type": "stream",
     "text": [
      "[1.66666667 0.66666667]\n"
     ]
    }
   ],
   "source": [
    "basis =np.array([[1,2], [2,1]]) # Your non-standard basis\n",
    "b_coords = np.linalg.solve(basis, [3,4]) # Find coordinates in new basis\n",
    "print(b_coords) # Scalars for basis vectors"
   ]
  }
 ],
 "metadata": {
  "kernelspec": {
   "display_name": ".venv (3.13.5)",
   "language": "python",
   "name": "python3"
  },
  "language_info": {
   "codemirror_mode": {
    "name": "ipython",
    "version": 3
   },
   "file_extension": ".py",
   "mimetype": "text/x-python",
   "name": "python",
   "nbconvert_exporter": "python",
   "pygments_lexer": "ipython3",
   "version": "3.13.5"
  }
 },
 "nbformat": 4,
 "nbformat_minor": 5
}
